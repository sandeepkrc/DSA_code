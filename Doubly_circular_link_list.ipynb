{
 "cells": [
  {
   "cell_type": "code",
   "execution_count": 7,
   "metadata": {},
   "outputs": [
    {
     "name": "stdout",
     "output_type": "stream",
     "text": [
      "[ksdjshb]\n"
     ]
    }
   ],
   "source": [
    "###  code for Doubly Circular Link LIst   ###\n",
    "\"\"\"\n",
    "Doubly Circilar link list implementation\n",
    "\"\"\"\n",
    "from dataclasses import dataclass\n",
    "from typing import Any,Optional\n",
    "\n",
    "\n",
    "@dataclass\n",
    "class Node:\n",
    "    prev : Optional['Node'] = None\n",
    "    item : Any = None\n",
    "    next : Optional['Node'] = None\n",
    "\n",
    "\n",
    "@dataclass\n",
    "class DCLL:\n",
    "    start : Any = None\n",
    "    pass\n",
    "    \n",
    "\n",
    "print(\"[ksdjshb]\")\n"
   ]
  }
 ],
 "metadata": {
  "kernelspec": {
   "display_name": "Python 3 (ipykernel)",
   "language": "python",
   "name": "python3"
  },
  "language_info": {
   "codemirror_mode": {
    "name": "ipython",
    "version": 3
   },
   "file_extension": ".py",
   "mimetype": "text/x-python",
   "name": "python",
   "nbconvert_exporter": "python",
   "pygments_lexer": "ipython3",
   "version": "3.10.12"
  }
 },
 "nbformat": 4,
 "nbformat_minor": 2
}
